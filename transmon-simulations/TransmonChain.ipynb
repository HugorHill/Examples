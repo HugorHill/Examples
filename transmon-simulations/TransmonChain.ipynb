{
 "cells": [
  {
   "cell_type": "code",
   "execution_count": 1,
   "id": "344d1e6c",
   "metadata": {},
   "outputs": [],
   "source": [
    "from importlib import reload\n",
    "import two_transmons.DoubleTransmonSystem\n",
    "from two_transmons.DoubleTransmonSystem import *\n",
    "import two_transmons.VacuumRabiSimulation\n",
    "from two_transmons.VacuumRabiSimulation import *\n",
    "import single_transmon.Transmon\n",
    "from single_transmon.Transmon import *\n",
    "from ReadoutResonator import *\n",
    "from qutip import *\n",
    "from tqdm.notebook import tqdm\n",
    "from two_transmons.ZPulse import *\n",
    "from importlib import reload\n",
    "import two_transmons.ParallelCalculations\n",
    "from two_transmons.ParallelCalculations import *\n",
    "from two_transmons.CalcTime import *\n",
    "from two_transmons.Tomography import *\n",
    "from scipy.linalg import cholesky\n",
    "from p_tqdm import p_map, p_imap\n",
    "import time\n",
    "import numpy as np\n",
    "from numpy import dot\n",
    "from copy import deepcopy\n",
    "from transmon_chain.transmon_chain import *"
   ]
  },
  {
   "cell_type": "code",
   "execution_count": 2,
   "id": "b5868641",
   "metadata": {},
   "outputs": [
    {
     "name": "stderr",
     "output_type": "stream",
     "text": [
      "/tmp/ipykernel_1412757/1099725351.py:27: DeprecationWarning: scipy.linspace is deprecated and will be removed in SciPy 2.0.0, use numpy.linspace instead\n",
      "  Ts = linspace(0, params[\"finish\"], params['t_points'])\n",
      "/home/alexeitolstobrov/server/lib/python3.8/site-packages/scipy/sparse/_index.py:82: SparseEfficiencyWarning: Changing the sparsity structure of a csr_matrix is expensive. lil_matrix is more efficient.\n",
      "  self._set_intXint(row, col, x.flat[0])\n"
     ]
    }
   ],
   "source": [
    "Nc = 7\n",
    "N_trunc = 3\n",
    "Ec1 = 0.25 * 2 * np.pi\n",
    "Ec2 = 1.03*Ec1\n",
    "Ecc = 0.01/1.2**2 * 2 * np.pi # 1.2 is my estimate for n_{ge} matrix element\n",
    "Ej1 = Ec1 * 100\n",
    "Ej2 = Ec2 * 100\n",
    "d = 0.2\n",
    "\n",
    "T1_1, T2_1 = 10e6, 5e6\n",
    "T1_2, T2_2 = 5e6, 1e6\n",
    "T1_3, T2_3 = 5e6, 1e6\n",
    "T1_4, T2_4 = 5e6, 1e6\n",
    "\n",
    "tr1 = Transmon(Ec1, Ej1, d, 1/T1_1, 1/T2_1, Nc, N_trunc, 1)\n",
    "tr2 = Transmon(Ec2, Ej2, d, 1/T1_2, 1/T2_2, Nc, N_trunc, 2)\n",
    "tr3 = Transmon(Ec1, Ej1, d, 1/T1_3, 1/T2_3, Nc, N_trunc, 3)\n",
    "tr4 = Transmon(Ec2, Ej2, d, 1/T1_4, 1/T2_4, Nc, N_trunc, 4)\n",
    "dts = DoubleTransmonSystem(tr1, tr2, Ecc)\n",
    "r = ReadoutResonator(6, 1118, 1964, phi=0.29)\n",
    "r.set_qubit_parameters(.05, 0.05, 5, 5.3, .2, .2)\n",
    "\n",
    "\n",
    "freq_lim = 0.2\n",
    "farg=cook_farg(20,freq_lim)\n",
    "params=farg[0]['params']\n",
    "Ts = linspace(0, params[\"finish\"], params['t_points'])\n",
    "T = Tomography(dts, Ts, params, r)\n"
   ]
  },
  {
   "cell_type": "code",
   "execution_count": 3,
   "id": "665b3ea3",
   "metadata": {},
   "outputs": [
    {
     "name": "stdout",
     "output_type": "stream",
     "text": [
      "Setting all J to be equal\n"
     ]
    }
   ],
   "source": [
    "chain = TransmonChain(4, transmon_truncation = 3)\n",
    "chain.set_phi((0.4479,0.5,0.8,0.8))\n",
    "chain._transmons = [tr1, tr2,tr3,tr4]\n",
    "chain.set_J(0.01/1.2**2 * 2 * np.pi/5)"
   ]
  },
  {
   "cell_type": "code",
   "execution_count": 4,
   "id": "60e89b39",
   "metadata": {},
   "outputs": [
    {
     "name": "stdout",
     "output_type": "stream",
     "text": [
      "Total 15 kets included\n"
     ]
    }
   ],
   "source": [
    "signal = ZPulse(Ts,params)\n",
    "waveform1 = signal.waveform_iswap_zgate(1)\n",
    "waveform2 = signal.waveform_iswap_zgate(2)\n",
    "waveform_const = ones_like(Ts)*0.8\n",
    "rotations = [[T._pi_duration,0],[0,0],[0,0],[0,0]]\n",
    "chain.build_low_energy_kets(2,0)\n"
   ]
  },
  {
   "cell_type": "code",
   "execution_count": null,
   "id": "7b9efb30",
   "metadata": {},
   "outputs": [],
   "source": [
    "H_full[]"
   ]
  },
  {
   "cell_type": "code",
   "execution_count": 5,
   "id": "872d38c7",
   "metadata": {},
   "outputs": [],
   "source": [
    "H_full = chain.build_H_full([waveform1,waveform2, waveform_const, waveform_const], params, rotations)"
   ]
  },
  {
   "cell_type": "code",
   "execution_count": 6,
   "id": "f41f20dc",
   "metadata": {},
   "outputs": [],
   "source": [
    "len(H_full)\n",
    "rho0 = Qobj(ket2dm(basis(15,0)))\n",
    "sigma_z1 = tr1.sz()\n",
    "oper = chain._identity_array.copy()\n",
    "oper[0]=sigma_z1\n",
    "sigma_z1_chain = chain.truncate_to_low_population_subspace(tensor(*oper))"
   ]
  },
  {
   "cell_type": "code",
   "execution_count": 9,
   "id": "b9e72e60",
   "metadata": {},
   "outputs": [
    {
     "data": {
      "text/plain": [
       "[<matplotlib.lines.Line2D at 0x7fc41cb9cb20>]"
      ]
     },
     "execution_count": 9,
     "metadata": {},
     "output_type": "execute_result"
    },
    {
     "data": {
      "image/png": "[encoded data removed]",
      "text/plain": [
       "<Figure size 432x288 with 1 Axes>"
      ]
     },
     "metadata": {
      "needs_background": "light"
     },
     "output_type": "display_data"
    }
   ],
   "source": [
    "plot(Ts, waveform2)"
   ]
  },
  {
   "cell_type": "code",
   "execution_count": 10,
   "id": "791b8315",
   "metadata": {},
   "outputs": [
    {
     "name": "stdout",
     "output_type": "stream",
     "text": [
      "10.0%. Run time:   7.05s. Est. time left: 00:00:01:03\n",
      "20.0%. Run time:  14.02s. Est. time left: 00:00:00:56\n",
      "30.0%. Run time:  20.98s. Est. time left: 00:00:00:48\n",
      "40.0%. Run time:  27.95s. Est. time left: 00:00:00:41\n",
      "50.0%. Run time:  34.95s. Est. time left: 00:00:00:34\n",
      "60.0%. Run time:  41.89s. Est. time left: 00:00:00:27\n",
      "70.0%. Run time:  48.87s. Est. time left: 00:00:00:20\n",
      "80.0%. Run time:  55.84s. Est. time left: 00:00:00:13\n",
      "90.0%. Run time:  62.82s. Est. time left: 00:00:00:06\n",
      "Total run time:  69.79s\n"
     ]
    }
   ],
   "source": [
    "result = mesolve(H_full, rho0, Ts, \n",
    "                 c_ops = [],e_ops = [sigma_z1_chain],progress_bar=True,options=Options(nsteps = 20000, store_states = True, max_step = 1e-3))"
   ]
  },
  {
   "cell_type": "code",
   "execution_count": 11,
   "id": "5c5a5237",
   "metadata": {},
   "outputs": [
    {
     "data": {
      "image/png": "[encoded data removed]",
      "text/plain": [
       "<Figure size 432x288 with 1 Axes>"
      ]
     },
     "metadata": {
      "needs_background": "light"
     },
     "output_type": "display_data"
    }
   ],
   "source": [
    "plot(Ts, result.expect[0])\n",
    "grid()"
   ]
  },
  {
   "cell_type": "code",
   "execution_count": 12,
   "id": "3912d143",
   "metadata": {},
   "outputs": [],
   "source": [
    "H_tr1 = chain._build_transmon_H_at_index(0, waveform1)"
   ]
  },
  {
   "cell_type": "code",
   "execution_count": 13,
   "id": "64865841",
   "metadata": {},
   "outputs": [
    {
     "data": {
      "text/plain": [
       "array([1., 1., 1., ..., 1., 1., 1.])"
      ]
     },
     "execution_count": 13,
     "metadata": {},
     "output_type": "execute_result"
    }
   ],
   "source": [
    "H_tr1[2][1]"
   ]
  },
  {
   "cell_type": "code",
   "execution_count": 14,
   "id": "3e3ef497",
   "metadata": {},
   "outputs": [
    {
     "name": "stderr",
     "output_type": "stream",
     "text": [
      "/home/alexeitolstobrov/server/lib/python3.8/site-packages/scipy/sparse/_index.py:82: SparseEfficiencyWarning: Changing the sparsity structure of a csr_matrix is expensive. lil_matrix is more efficient.\n",
      "  self._set_intXint(row, col, x.flat[0])\n"
     ]
    }
   ],
   "source": [
    "H_dr = chain.build_RWA_driving(params,[[T._pi_duration/2,0],[0,0],[0,0],[0,0]])"
   ]
  },
  {
   "cell_type": "code",
   "execution_count": 15,
   "id": "180bddae",
   "metadata": {},
   "outputs": [
    {
     "data": {
      "text/latex": [
       "Quantum object: dims = [[15], [15]], shape = (15, 15), type = oper, isherm = True\\begin{equation*}\\left(\\begin{array}{*{11}c}0.0 & 0.0 & 0.0 & 0.0 & 0.0 & \\cdots & 1.0 & 0.0 & 0.0 & 0.0 & 0.0\\\\0.0 & 0.0 & 0.0 & 0.0 & 0.0 & \\cdots & 0.0 & 1.0 & 0.0 & 0.0 & 0.0\\\\0.0 & 0.0 & 0.0 & 0.0 & 0.0 & \\cdots & 0.0 & 0.0 & 0.0 & 0.0 & 0.0\\\\0.0 & 0.0 & 0.0 & 0.0 & 0.0 & \\cdots & 0.0 & 0.0 & 1.0 & 0.0 & 0.0\\\\0.0 & 0.0 & 0.0 & 0.0 & 0.0 & \\cdots & 0.0 & 0.0 & 0.0 & 0.0 & 0.0\\\\\\vdots & \\vdots & \\vdots & \\vdots & \\vdots & \\ddots & \\vdots & \\vdots & \\vdots & \\vdots & \\vdots\\\\1.0 & 0.0 & 0.0 & 0.0 & 0.0 & \\cdots & 0.0 & 0.0 & 0.0 & 0.0 & 1.385\\\\0.0 & 1.0 & 0.0 & 0.0 & 0.0 & \\cdots & 0.0 & 0.0 & 0.0 & 0.0 & 0.0\\\\0.0 & 0.0 & 0.0 & 1.0 & 0.0 & \\cdots & 0.0 & 0.0 & 0.0 & 0.0 & 0.0\\\\0.0 & 0.0 & 0.0 & 0.0 & 0.0 & \\cdots & 0.0 & 0.0 & 0.0 & 0.0 & 0.0\\\\0.0 & 0.0 & 0.0 & 0.0 & 0.0 & \\cdots & 1.385 & 0.0 & 0.0 & 0.0 & 0.0\\\\\\end{array}\\right)\\end{equation*}"
      ],
      "text/plain": [
       "Quantum object: dims = [[15], [15]], shape = (15, 15), type = oper, isherm = True\n",
       "Qobj data =\n",
       "[[0.         0.         0.         0.         0.         0.\n",
       "  0.         0.         0.         0.         1.         0.\n",
       "  0.         0.         0.        ]\n",
       " [0.         0.         0.         0.         0.         0.\n",
       "  0.         0.         0.         0.         0.         1.\n",
       "  0.         0.         0.        ]\n",
       " [0.         0.         0.         0.         0.         0.\n",
       "  0.         0.         0.         0.         0.         0.\n",
       "  0.         0.         0.        ]\n",
       " [0.         0.         0.         0.         0.         0.\n",
       "  0.         0.         0.         0.         0.         0.\n",
       "  1.         0.         0.        ]\n",
       " [0.         0.         0.         0.         0.         0.\n",
       "  0.         0.         0.         0.         0.         0.\n",
       "  0.         0.         0.        ]\n",
       " [0.         0.         0.         0.         0.         0.\n",
       "  0.         0.         0.         0.         0.         0.\n",
       "  0.         0.         0.        ]\n",
       " [0.         0.         0.         0.         0.         0.\n",
       "  0.         0.         0.         0.         0.         0.\n",
       "  0.         1.         0.        ]\n",
       " [0.         0.         0.         0.         0.         0.\n",
       "  0.         0.         0.         0.         0.         0.\n",
       "  0.         0.         0.        ]\n",
       " [0.         0.         0.         0.         0.         0.\n",
       "  0.         0.         0.         0.         0.         0.\n",
       "  0.         0.         0.        ]\n",
       " [0.         0.         0.         0.         0.         0.\n",
       "  0.         0.         0.         0.         0.         0.\n",
       "  0.         0.         0.        ]\n",
       " [1.         0.         0.         0.         0.         0.\n",
       "  0.         0.         0.         0.         0.         0.\n",
       "  0.         0.         1.38518736]\n",
       " [0.         1.         0.         0.         0.         0.\n",
       "  0.         0.         0.         0.         0.         0.\n",
       "  0.         0.         0.        ]\n",
       " [0.         0.         0.         1.         0.         0.\n",
       "  0.         0.         0.         0.         0.         0.\n",
       "  0.         0.         0.        ]\n",
       " [0.         0.         0.         0.         0.         0.\n",
       "  1.         0.         0.         0.         0.         0.\n",
       "  0.         0.         0.        ]\n",
       " [0.         0.         0.         0.         0.         0.\n",
       "  0.         0.         0.         0.         1.38518736 0.\n",
       "  0.         0.         0.        ]]"
      ]
     },
     "execution_count": 15,
     "metadata": {},
     "output_type": "execute_result"
    }
   ],
   "source": [
    "H_dr[0][0]"
   ]
  },
  {
   "cell_type": "code",
   "execution_count": 16,
   "id": "d055a35f",
   "metadata": {},
   "outputs": [],
   "source": [
    "H_int = chain.Hint_RF_RWA(1,2,0.02)"
   ]
  },
  {
   "cell_type": "code",
   "execution_count": null,
   "id": "946e85f6",
   "metadata": {},
   "outputs": [],
   "source": []
  }
 ],
 "metadata": {
  "kernelspec": {
   "display_name": "Python 3 (ipykernel)",
   "language": "python",
   "name": "python3"
  },
  "language_info": {
   "codemirror_mode": {
    "name": "ipython",
    "version": 3
   },
   "file_extension": ".py",
   "mimetype": "text/x-python",
   "name": "python",
   "nbconvert_exporter": "python",
   "pygments_lexer": "ipython3",
   "version": "3.8.10"
  }
 },
 "nbformat": 4,
 "nbformat_minor": 5
}
