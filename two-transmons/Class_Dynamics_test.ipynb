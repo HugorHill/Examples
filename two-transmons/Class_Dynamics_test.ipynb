{
 "cells": [
  {
   "cell_type": "code",
   "execution_count": 1,
   "metadata": {},
   "outputs": [
    {
     "name": "stdout",
     "output_type": "stream",
     "text": [
      "Populating the interactive namespace from numpy and matplotlib\n"
     ]
    }
   ],
   "source": [
    "%pylab inline\n",
    "from qutip import *\n",
    "#from tqdm import tqdm_notebook\n",
    "from scipy.constants import h, hbar, k as kb\n",
    "from itertools import product\n",
    "from scipy import optimize\n",
    "from importlib import reload\n",
    "#from ReadoutResonator import *\n",
    "#from tqdm import tqdm_notebook as tqdm\n",
    "#from tqdm import tnrange, tqdm_notebook\n",
    "import pickle\n",
    "# import cython\n",
    "# cython.language_level = '2'\n",
    "import logging\n",
    "logging.getLogger().setLevel(logging.WARNING)\n",
    "import warnings\n",
    "warnings.simplefilter(action='ignore', category=FutureWarning)\n",
    "\n",
    "import Transmon\n",
    "reload(Transmon)\n",
    "from Transmon import *\n",
    "\n",
    "import TransmonControl\n",
    "reload(TransmonControl)\n",
    "from TransmonControl import *\n",
    "\n",
    "import DoubleTransmonSystem\n",
    "reload(DoubleTransmonSystem)\n",
    "from DoubleTransmonSystem import *\n",
    "\n",
    "import Dynamics\n",
    "reload(Dynamics)\n",
    "from Dynamics import *"
   ]
  },
  {
   "cell_type": "code",
   "execution_count": 2,
   "metadata": {},
   "outputs": [],
   "source": [
    "## Double Transmon System parameters (manually fitted with care)\n",
    "Nc = 7\n",
    "\n",
    "Ec1 = 0.22 *2* np.pi\n",
    "Ec2 = 0.23 *2* np.pi\n",
    "Ecc = 0.005/1.2**2 * 2 * np.pi # 1.2 is my estimate for n_{ge} matrix element\n",
    "Ej1 = 23.87 *2* np.pi\n",
    "Ej2 = 17.56 *2* np.pi\n",
    "d = 0.7\n",
    "\n",
    "T1_1, T2_1 = 10e3, 5e3\n",
    "T1_2, T2_2 = 5e3, 1e3\n",
    "\n",
    "tr1 = Transmon(Ec1, Ej1, d, 1/T1_1, 1/T2_1, Nc)\n",
    "tr2 = Transmon(Ec2, Ej2, d, 1/T1_2, 1/T2_2, Nc)\n",
    "\n",
    "#TC = TransmonControl(tr1)\n",
    "dts = DoubleTransmonSystem(tr1, tr2, Ecc)\n",
    "\n",
    "SweetSpot1 = 4.14 #4.14\n",
    "SweetSpot2 = 4.12\n",
    "\n",
    "T1 = 11.0 #higher \"\\/\" #11.1 #periods of the spectrum curves\n",
    "T2 = 6.4 #lower \"/\\    #6.4 "
   ]
  },
  {
   "cell_type": "code",
   "execution_count": 3,
   "metadata": {},
   "outputs": [],
   "source": [
    "dyn = Dynamics(dts, SweetSpot1, SweetSpot2,T1, T2, 0.1, 2e4) #Dymanics(..., amp, dur)"
   ]
  },
  {
   "cell_type": "code",
   "execution_count": 10,
   "metadata": {},
   "outputs": [
    {
     "data": {
      "application/vnd.jupyter.widget-view+json": {
       "model_id": "b2b14e3fcdf243ff9bd72065a63b8f81",
       "version_major": 2,
       "version_minor": 0
      },
      "text/plain": [
       "HBox(children=(IntProgress(value=0, max=50), HTML(value='')))"
      ]
     },
     "metadata": {},
     "output_type": "display_data"
    },
    {
     "name": "stdout",
     "output_type": "stream",
     "text": [
      "\n"
     ]
    }
   ],
   "source": [
    "A = dyn.run_pb(50,50,4) #points chosen with "
   ]
  },
  {
   "cell_type": "code",
   "execution_count": 5,
   "metadata": {},
   "outputs": [],
   "source": [
    "#%rm *.pyx"
   ]
  },
  {
   "cell_type": "code",
   "execution_count": 6,
   "metadata": {},
   "outputs": [],
   "source": [
    "#dyn.f_list"
   ]
  },
  {
   "cell_type": "code",
   "execution_count": 45,
   "metadata": {},
   "outputs": [
    {
     "data": {
      "image/png": "[encoded data removed]",
      "text/plain": [
       "<Figure size 432x288 with 2 Axes>"
      ]
     },
     "metadata": {
      "needs_background": "light"
     },
     "output_type": "display_data"
    }
   ],
   "source": [
    "dyn.plot(8)\n",
    "#plt.colorbar(use_gridspec = True)\n",
    "#plt.tight_layout()"
   ]
  },
  {
   "cell_type": "code",
   "execution_count": 29,
   "metadata": {},
   "outputs": [
    {
     "data": {
      "text/plain": [
       "['Class_Dynamics_test.ipynb', 'Gates simulation 2.ipynb']"
      ]
     },
     "execution_count": 29,
     "metadata": {},
     "output_type": "execute_result"
    }
   ],
   "source": [
    "glob.glob('*.ipynb')"
   ]
  },
  {
   "cell_type": "markdown",
   "metadata": {},
   "source": [
    "##  let`s try doing some Pickling ;)"
   ]
  },
  {
   "cell_type": "code",
   "execution_count": 88,
   "metadata": {},
   "outputs": [],
   "source": [
    "import pickle\n",
    "\n",
    "example_dict = {'data':A, 'dts':dts}\n",
    "pickle_out = open(\"double_tone.pickle\",\"wb\")\n",
    "pickle.dump(example_dict, pickle_out)\n",
    "#pickle_out.close()\n",
    "pickle_in = open(\"double_tone.pickle\",\"rb\")\n",
    "\n",
    "example_dict2 = pickle.load(pickle_in)\n",
    "example_dict2['dts'].Hdr\n",
    "pickle_out.close()\n",
    "pickle_in.close()"
   ]
  },
  {
   "cell_type": "code",
   "execution_count": 85,
   "metadata": {},
   "outputs": [
    {
     "data": {
      "text/plain": [
       "<DoubleTransmonSystem.DoubleTransmonSystem at 0x7f8a5c804748>"
      ]
     },
     "execution_count": 85,
     "metadata": {},
     "output_type": "execute_result"
    }
   ],
   "source": []
  },
  {
   "cell_type": "code",
   "execution_count": null,
   "metadata": {},
   "outputs": [],
   "source": []
  }
 ],
 "metadata": {
  "kernelspec": {
   "display_name": "Python 3",
   "language": "python",
   "name": "python3"
  },
  "language_info": {
   "codemirror_mode": {
    "name": "ipython",
    "version": 3
   },
   "file_extension": ".py",
   "mimetype": "text/x-python",
   "name": "python",
   "nbconvert_exporter": "python",
   "pygments_lexer": "ipython3",
   "version": "3.7.3"
  }
 },
 "nbformat": 4,
 "nbformat_minor": 2
}
